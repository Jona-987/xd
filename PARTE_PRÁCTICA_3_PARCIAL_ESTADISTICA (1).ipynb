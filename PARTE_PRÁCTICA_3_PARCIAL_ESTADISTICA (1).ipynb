{
  "nbformat": 4,
  "nbformat_minor": 0,
  "metadata": {
    "colab": {
      "provenance": []
    },
    "kernelspec": {
      "name": "python3",
      "display_name": "Python 3"
    },
    "language_info": {
      "name": "python"
    }
  },
  "cells": [
    {
      "cell_type": "markdown",
      "source": [
        "---\n",
        "# $\\text{PARTE PRÁCTICA CORRESPONDIENTE AL SEGUNDO PARCIAL.}$\n",
        "## $\\text{Jonathan David Quintero Garzón - 2230980}$\n",
        "## $\\text{Mariangel Martinez Caicedo - 2221234}$\n",
        "## $\\text{Carol Silvana Sanabria Daza - 2210687}$\n",
        "---\n",
        "1. Introducción.\n",
        "2. Respecto a las variables:\n",
        "3.  Importados.\n",
        "4. Conclusiones.\n",
        "5. Referencias.\n",
        "---"
      ],
      "metadata": {
        "id": "_A8CYBvRYaA5"
      }
    },
    {
      "cell_type": "markdown",
      "source": [
        "##$\\text{1. Introducción.}$\n",
        "\n",
        "\n",
        "En el presente trabajo se realiza un análisis estadístico de los datos correspondientes a los nacimientos en Colombia durante el año 2023, a partir de la información suministrada por el DANE y recopilada a través del sistema RUAF-ND. El estudio se centra en dos variables clave: la talla al nacer (TALLA_NAC) y el tiempo de gestación (T_GES), las cuales representan indicadores fundamentales del desarrollo fetal y del estado de salud neonatal. A través de una limpieza y transformación de los datos, se construyeron visualizaciones y se aplicaron pruebas estadísticas que permitieron examinar la distribución de cada variable, así como su posible relación. De este modo, este análisis no solo permite identificar patrones relevantes en el crecimiento y madurez gestacional, sino también aportar evidencia útil para orientar políticas de salud materno-infantil y mejorar la atención prenatal en el país.\n",
        "\n",
        "\n",
        "---"
      ],
      "metadata": {
        "id": "S7uuKxg8oSvh"
      }
    },
    {
      "cell_type": "markdown",
      "source": [
        "##$\\text{2. Respecto a las variables.}$\n",
        "\n",
        "Las variables estudiadas provienen de la base de datos $\\text{BD-EEVV-Nacimientos-2023}$, correspondiente a las estadísticas de nacimientos  provenientes de los certificados de nacido vivo, la cual se acopia y consolida por las diferentes subdivisiones geográficas (regiones, departamentos y municipios) y por los diferentes grupos de población (etnias) en el territorio nacional.\n",
        "\n",
        "Las bases de datos permiten obtener información por área, sexo, según departamento y municipio de ocurrencia, departamento y municipio de residencia de la madre; esta información se constituye en fuente básica para el cálculo de indicadores como tasa bruta de natalidad, tasas de fecundidad y tasa de mortalidad infantil, así como diseñar planes en salud y política social.\n",
        "\n",
        "**VARIABLE: TALLA_NAC**\n",
        "\n",
        "- Definición: Talla del nacido vivo, al nacer\n",
        "- Tipo de variable: Cualitativa discreta.\n",
        "- Importancia: La talla de un recién nacido es un indicador clave del crecimiento intrauterino y del estado de salud al nacer. Permite detectar riesgos, construir curvas de crecimiento y evaluar factores maternos y socioeconómicos. Es fundamental en estudios de salud pública y desarrollo infantil.\n",
        "- Intervalos: 1 = Menos de 20, 2 = 20-29, 3 = 30-39, 4 = 40-49, 5 = 50-59, 6 = 60 y Más, 9 = Sin información\n",
        "\n",
        "**VARIABLE: T_GES**\n",
        "- Definición: Tiempo de gestación del nacido vivo\n",
        "- Tipo de variable: Cualitativa discreta.\n",
        "- Importancia: El tiempo de gestación es clave para determinar la madurez y viabilidad del recién nacido. Permite identificar nacimientos prematuros o postérmino, asociando riesgos de salud. Es esencial para evaluar la calidad del control prenatal y orientar intervenciones médicas.\n",
        "- Intervalos: 1 = Menos de 22, 2 = De 22 a 27, 3 = De 28 a 37, 4 = De 38 a 41, 5 = De 42 y más, 6 = Ignorado, 9 = Sin información\n",
        "\n",
        "El Departamento Administrativo Nacional de Estadística (DANE) de Colombia no utiliza un muestreo para recolectar los datos de las estadísticas vitales, como nacimientos y defunciones. En cambio, emplea un enfoque de registro continuo y exhaustivo, recopilando información de todos los eventos registrados en el país. Esta información se obtiene principalmente a través del Registro Civil y el Registro Único de Afiliación en Salud – Nacimientos y Defunciones (RUAF-ND), garantizando una cobertura completa y precisa de los datos vitales.\n",
        "\n",
        "Este sistema permite al DANE generar estadísticas vitales detalladas y confiables, fundamentales para el análisis demográfico, la planificación de políticas públicas y el seguimiento de indicadores de salud y desarrollo en Colombia.\n",
        "\n",
        "\n",
        "---"
      ],
      "metadata": {
        "id": "Iy4ZdjnsowQC"
      }
    },
    {
      "cell_type": "markdown",
      "source": [
        "##$\\text{3. Importados.}$"
      ],
      "metadata": {
        "id": "MB6vxvqJo6Ue"
      }
    },
    {
      "cell_type": "code",
      "source": [
        "import pandas as pd\n",
        "import io\n",
        "import seaborn as sns\n",
        "import matplotlib.pyplot as plt\n",
        "import numpy as np\n",
        "import scipy.stats as stats\n",
        "from scipy.stats import norm\n",
        "import math"
      ],
      "metadata": {
        "id": "AYSUqRObttW4"
      },
      "execution_count": null,
      "outputs": []
    },
    {
      "cell_type": "code",
      "execution_count": null,
      "metadata": {
        "colab": {
          "base_uri": "https://localhost:8080/",
          "height": 73
        },
        "id": "RLTQMBP1kXFD",
        "outputId": "455f932f-5c53-4112-abb4-71a700d42037"
      },
      "outputs": [
        {
          "output_type": "display_data",
          "data": {
            "text/plain": [
              "<IPython.core.display.HTML object>"
            ],
            "text/html": [
              "\n",
              "     <input type=\"file\" id=\"files-c1f7ca02-23a3-47c7-95e9-664a78fd7a50\" name=\"files[]\" multiple disabled\n",
              "        style=\"border:none\" />\n",
              "     <output id=\"result-c1f7ca02-23a3-47c7-95e9-664a78fd7a50\">\n",
              "      Upload widget is only available when the cell has been executed in the\n",
              "      current browser session. Please rerun this cell to enable.\n",
              "      </output>\n",
              "      <script>// Copyright 2017 Google LLC\n",
              "//\n",
              "// Licensed under the Apache License, Version 2.0 (the \"License\");\n",
              "// you may not use this file except in compliance with the License.\n",
              "// You may obtain a copy of the License at\n",
              "//\n",
              "//      http://www.apache.org/licenses/LICENSE-2.0\n",
              "//\n",
              "// Unless required by applicable law or agreed to in writing, software\n",
              "// distributed under the License is distributed on an \"AS IS\" BASIS,\n",
              "// WITHOUT WARRANTIES OR CONDITIONS OF ANY KIND, either express or implied.\n",
              "// See the License for the specific language governing permissions and\n",
              "// limitations under the License.\n",
              "\n",
              "/**\n",
              " * @fileoverview Helpers for google.colab Python module.\n",
              " */\n",
              "(function(scope) {\n",
              "function span(text, styleAttributes = {}) {\n",
              "  const element = document.createElement('span');\n",
              "  element.textContent = text;\n",
              "  for (const key of Object.keys(styleAttributes)) {\n",
              "    element.style[key] = styleAttributes[key];\n",
              "  }\n",
              "  return element;\n",
              "}\n",
              "\n",
              "// Max number of bytes which will be uploaded at a time.\n",
              "const MAX_PAYLOAD_SIZE = 100 * 1024;\n",
              "\n",
              "function _uploadFiles(inputId, outputId) {\n",
              "  const steps = uploadFilesStep(inputId, outputId);\n",
              "  const outputElement = document.getElementById(outputId);\n",
              "  // Cache steps on the outputElement to make it available for the next call\n",
              "  // to uploadFilesContinue from Python.\n",
              "  outputElement.steps = steps;\n",
              "\n",
              "  return _uploadFilesContinue(outputId);\n",
              "}\n",
              "\n",
              "// This is roughly an async generator (not supported in the browser yet),\n",
              "// where there are multiple asynchronous steps and the Python side is going\n",
              "// to poll for completion of each step.\n",
              "// This uses a Promise to block the python side on completion of each step,\n",
              "// then passes the result of the previous step as the input to the next step.\n",
              "function _uploadFilesContinue(outputId) {\n",
              "  const outputElement = document.getElementById(outputId);\n",
              "  const steps = outputElement.steps;\n",
              "\n",
              "  const next = steps.next(outputElement.lastPromiseValue);\n",
              "  return Promise.resolve(next.value.promise).then((value) => {\n",
              "    // Cache the last promise value to make it available to the next\n",
              "    // step of the generator.\n",
              "    outputElement.lastPromiseValue = value;\n",
              "    return next.value.response;\n",
              "  });\n",
              "}\n",
              "\n",
              "/**\n",
              " * Generator function which is called between each async step of the upload\n",
              " * process.\n",
              " * @param {string} inputId Element ID of the input file picker element.\n",
              " * @param {string} outputId Element ID of the output display.\n",
              " * @return {!Iterable<!Object>} Iterable of next steps.\n",
              " */\n",
              "function* uploadFilesStep(inputId, outputId) {\n",
              "  const inputElement = document.getElementById(inputId);\n",
              "  inputElement.disabled = false;\n",
              "\n",
              "  const outputElement = document.getElementById(outputId);\n",
              "  outputElement.innerHTML = '';\n",
              "\n",
              "  const pickedPromise = new Promise((resolve) => {\n",
              "    inputElement.addEventListener('change', (e) => {\n",
              "      resolve(e.target.files);\n",
              "    });\n",
              "  });\n",
              "\n",
              "  const cancel = document.createElement('button');\n",
              "  inputElement.parentElement.appendChild(cancel);\n",
              "  cancel.textContent = 'Cancel upload';\n",
              "  const cancelPromise = new Promise((resolve) => {\n",
              "    cancel.onclick = () => {\n",
              "      resolve(null);\n",
              "    };\n",
              "  });\n",
              "\n",
              "  // Wait for the user to pick the files.\n",
              "  const files = yield {\n",
              "    promise: Promise.race([pickedPromise, cancelPromise]),\n",
              "    response: {\n",
              "      action: 'starting',\n",
              "    }\n",
              "  };\n",
              "\n",
              "  cancel.remove();\n",
              "\n",
              "  // Disable the input element since further picks are not allowed.\n",
              "  inputElement.disabled = true;\n",
              "\n",
              "  if (!files) {\n",
              "    return {\n",
              "      response: {\n",
              "        action: 'complete',\n",
              "      }\n",
              "    };\n",
              "  }\n",
              "\n",
              "  for (const file of files) {\n",
              "    const li = document.createElement('li');\n",
              "    li.append(span(file.name, {fontWeight: 'bold'}));\n",
              "    li.append(span(\n",
              "        `(${file.type || 'n/a'}) - ${file.size} bytes, ` +\n",
              "        `last modified: ${\n",
              "            file.lastModifiedDate ? file.lastModifiedDate.toLocaleDateString() :\n",
              "                                    'n/a'} - `));\n",
              "    const percent = span('0% done');\n",
              "    li.appendChild(percent);\n",
              "\n",
              "    outputElement.appendChild(li);\n",
              "\n",
              "    const fileDataPromise = new Promise((resolve) => {\n",
              "      const reader = new FileReader();\n",
              "      reader.onload = (e) => {\n",
              "        resolve(e.target.result);\n",
              "      };\n",
              "      reader.readAsArrayBuffer(file);\n",
              "    });\n",
              "    // Wait for the data to be ready.\n",
              "    let fileData = yield {\n",
              "      promise: fileDataPromise,\n",
              "      response: {\n",
              "        action: 'continue',\n",
              "      }\n",
              "    };\n",
              "\n",
              "    // Use a chunked sending to avoid message size limits. See b/62115660.\n",
              "    let position = 0;\n",
              "    do {\n",
              "      const length = Math.min(fileData.byteLength - position, MAX_PAYLOAD_SIZE);\n",
              "      const chunk = new Uint8Array(fileData, position, length);\n",
              "      position += length;\n",
              "\n",
              "      const base64 = btoa(String.fromCharCode.apply(null, chunk));\n",
              "      yield {\n",
              "        response: {\n",
              "          action: 'append',\n",
              "          file: file.name,\n",
              "          data: base64,\n",
              "        },\n",
              "      };\n",
              "\n",
              "      let percentDone = fileData.byteLength === 0 ?\n",
              "          100 :\n",
              "          Math.round((position / fileData.byteLength) * 100);\n",
              "      percent.textContent = `${percentDone}% done`;\n",
              "\n",
              "    } while (position < fileData.byteLength);\n",
              "  }\n",
              "\n",
              "  // All done.\n",
              "  yield {\n",
              "    response: {\n",
              "      action: 'complete',\n",
              "    }\n",
              "  };\n",
              "}\n",
              "\n",
              "scope.google = scope.google || {};\n",
              "scope.google.colab = scope.google.colab || {};\n",
              "scope.google.colab._files = {\n",
              "  _uploadFiles,\n",
              "  _uploadFilesContinue,\n",
              "};\n",
              "})(self);\n",
              "</script> "
            ]
          },
          "metadata": {}
        },
        {
          "output_type": "stream",
          "name": "stdout",
          "text": [
            "Saving BD-EEVV-Nacimientos-2023.csv to BD-EEVV-Nacimientos-2023.csv\n"
          ]
        }
      ],
      "source": [
        "from google.colab import files\n",
        "uploaded = files.upload()"
      ]
    },
    {
      "cell_type": "code",
      "source": [
        "io_csv = io.BytesIO(uploaded[\"BD-EEVV-Nacimientos-2023.csv\"])\n",
        "tabla = pd.read_csv(io_csv, sep=',', index_col=0, encoding=\"latin-1\")\n",
        "\n",
        "tabla1 = tabla[[\"T_GES\",\"TALLA_NAC\"]]\n",
        "\n",
        "df1=tabla1[(tabla1.TALLA_NAC != 9) & (tabla1.T_GES != 9)]\n",
        "df1.head(10)"
      ],
      "metadata": {
        "colab": {
          "base_uri": "https://localhost:8080/",
          "height": 394
        },
        "id": "2zeZtSdGtbhB",
        "outputId": "2ab559e0-5f3c-471a-fd8e-7b2ead0926a5"
      },
      "execution_count": null,
      "outputs": [
        {
          "output_type": "execute_result",
          "data": {
            "text/plain": [
              "          T_GES  TALLA_NAC\n",
              "COD_DPTO                  \n",
              "23            4          5\n",
              "11            4          4\n",
              "11            4          4\n",
              "11            4          5\n",
              "11            4          5\n",
              "5             4          4\n",
              "5             3          4\n",
              "52            4          5\n",
              "11            4          5\n",
              "5             4          5"
            ],
            "text/html": [
              "\n",
              "  <div id=\"df-3e78890b-8c7c-4da1-93de-2b76c83ab142\" class=\"colab-df-container\">\n",
              "    <div>\n",
              "<style scoped>\n",
              "    .dataframe tbody tr th:only-of-type {\n",
              "        vertical-align: middle;\n",
              "    }\n",
              "\n",
              "    .dataframe tbody tr th {\n",
              "        vertical-align: top;\n",
              "    }\n",
              "\n",
              "    .dataframe thead th {\n",
              "        text-align: right;\n",
              "    }\n",
              "</style>\n",
              "<table border=\"1\" class=\"dataframe\">\n",
              "  <thead>\n",
              "    <tr style=\"text-align: right;\">\n",
              "      <th></th>\n",
              "      <th>T_GES</th>\n",
              "      <th>TALLA_NAC</th>\n",
              "    </tr>\n",
              "    <tr>\n",
              "      <th>COD_DPTO</th>\n",
              "      <th></th>\n",
              "      <th></th>\n",
              "    </tr>\n",
              "  </thead>\n",
              "  <tbody>\n",
              "    <tr>\n",
              "      <th>23</th>\n",
              "      <td>4</td>\n",
              "      <td>5</td>\n",
              "    </tr>\n",
              "    <tr>\n",
              "      <th>11</th>\n",
              "      <td>4</td>\n",
              "      <td>4</td>\n",
              "    </tr>\n",
              "    <tr>\n",
              "      <th>11</th>\n",
              "      <td>4</td>\n",
              "      <td>4</td>\n",
              "    </tr>\n",
              "    <tr>\n",
              "      <th>11</th>\n",
              "      <td>4</td>\n",
              "      <td>5</td>\n",
              "    </tr>\n",
              "    <tr>\n",
              "      <th>11</th>\n",
              "      <td>4</td>\n",
              "      <td>5</td>\n",
              "    </tr>\n",
              "    <tr>\n",
              "      <th>5</th>\n",
              "      <td>4</td>\n",
              "      <td>4</td>\n",
              "    </tr>\n",
              "    <tr>\n",
              "      <th>5</th>\n",
              "      <td>3</td>\n",
              "      <td>4</td>\n",
              "    </tr>\n",
              "    <tr>\n",
              "      <th>52</th>\n",
              "      <td>4</td>\n",
              "      <td>5</td>\n",
              "    </tr>\n",
              "    <tr>\n",
              "      <th>11</th>\n",
              "      <td>4</td>\n",
              "      <td>5</td>\n",
              "    </tr>\n",
              "    <tr>\n",
              "      <th>5</th>\n",
              "      <td>4</td>\n",
              "      <td>5</td>\n",
              "    </tr>\n",
              "  </tbody>\n",
              "</table>\n",
              "</div>\n",
              "    <div class=\"colab-df-buttons\">\n",
              "\n",
              "  <div class=\"colab-df-container\">\n",
              "    <button class=\"colab-df-convert\" onclick=\"convertToInteractive('df-3e78890b-8c7c-4da1-93de-2b76c83ab142')\"\n",
              "            title=\"Convert this dataframe to an interactive table.\"\n",
              "            style=\"display:none;\">\n",
              "\n",
              "  <svg xmlns=\"http://www.w3.org/2000/svg\" height=\"24px\" viewBox=\"0 -960 960 960\">\n",
              "    <path d=\"M120-120v-720h720v720H120Zm60-500h600v-160H180v160Zm220 220h160v-160H400v160Zm0 220h160v-160H400v160ZM180-400h160v-160H180v160Zm440 0h160v-160H620v160ZM180-180h160v-160H180v160Zm440 0h160v-160H620v160Z\"/>\n",
              "  </svg>\n",
              "    </button>\n",
              "\n",
              "  <style>\n",
              "    .colab-df-container {\n",
              "      display:flex;\n",
              "      gap: 12px;\n",
              "    }\n",
              "\n",
              "    .colab-df-convert {\n",
              "      background-color: #E8F0FE;\n",
              "      border: none;\n",
              "      border-radius: 50%;\n",
              "      cursor: pointer;\n",
              "      display: none;\n",
              "      fill: #1967D2;\n",
              "      height: 32px;\n",
              "      padding: 0 0 0 0;\n",
              "      width: 32px;\n",
              "    }\n",
              "\n",
              "    .colab-df-convert:hover {\n",
              "      background-color: #E2EBFA;\n",
              "      box-shadow: 0px 1px 2px rgba(60, 64, 67, 0.3), 0px 1px 3px 1px rgba(60, 64, 67, 0.15);\n",
              "      fill: #174EA6;\n",
              "    }\n",
              "\n",
              "    .colab-df-buttons div {\n",
              "      margin-bottom: 4px;\n",
              "    }\n",
              "\n",
              "    [theme=dark] .colab-df-convert {\n",
              "      background-color: #3B4455;\n",
              "      fill: #D2E3FC;\n",
              "    }\n",
              "\n",
              "    [theme=dark] .colab-df-convert:hover {\n",
              "      background-color: #434B5C;\n",
              "      box-shadow: 0px 1px 3px 1px rgba(0, 0, 0, 0.15);\n",
              "      filter: drop-shadow(0px 1px 2px rgba(0, 0, 0, 0.3));\n",
              "      fill: #FFFFFF;\n",
              "    }\n",
              "  </style>\n",
              "\n",
              "    <script>\n",
              "      const buttonEl =\n",
              "        document.querySelector('#df-3e78890b-8c7c-4da1-93de-2b76c83ab142 button.colab-df-convert');\n",
              "      buttonEl.style.display =\n",
              "        google.colab.kernel.accessAllowed ? 'block' : 'none';\n",
              "\n",
              "      async function convertToInteractive(key) {\n",
              "        const element = document.querySelector('#df-3e78890b-8c7c-4da1-93de-2b76c83ab142');\n",
              "        const dataTable =\n",
              "          await google.colab.kernel.invokeFunction('convertToInteractive',\n",
              "                                                    [key], {});\n",
              "        if (!dataTable) return;\n",
              "\n",
              "        const docLinkHtml = 'Like what you see? Visit the ' +\n",
              "          '<a target=\"_blank\" href=https://colab.research.google.com/notebooks/data_table.ipynb>data table notebook</a>'\n",
              "          + ' to learn more about interactive tables.';\n",
              "        element.innerHTML = '';\n",
              "        dataTable['output_type'] = 'display_data';\n",
              "        await google.colab.output.renderOutput(dataTable, element);\n",
              "        const docLink = document.createElement('div');\n",
              "        docLink.innerHTML = docLinkHtml;\n",
              "        element.appendChild(docLink);\n",
              "      }\n",
              "    </script>\n",
              "  </div>\n",
              "\n",
              "\n",
              "    <div id=\"df-6ae23cb4-241e-47c2-94a8-4bd099cd5dfc\">\n",
              "      <button class=\"colab-df-quickchart\" onclick=\"quickchart('df-6ae23cb4-241e-47c2-94a8-4bd099cd5dfc')\"\n",
              "                title=\"Suggest charts\"\n",
              "                style=\"display:none;\">\n",
              "\n",
              "<svg xmlns=\"http://www.w3.org/2000/svg\" height=\"24px\"viewBox=\"0 0 24 24\"\n",
              "     width=\"24px\">\n",
              "    <g>\n",
              "        <path d=\"M19 3H5c-1.1 0-2 .9-2 2v14c0 1.1.9 2 2 2h14c1.1 0 2-.9 2-2V5c0-1.1-.9-2-2-2zM9 17H7v-7h2v7zm4 0h-2V7h2v10zm4 0h-2v-4h2v4z\"/>\n",
              "    </g>\n",
              "</svg>\n",
              "      </button>\n",
              "\n",
              "<style>\n",
              "  .colab-df-quickchart {\n",
              "      --bg-color: #E8F0FE;\n",
              "      --fill-color: #1967D2;\n",
              "      --hover-bg-color: #E2EBFA;\n",
              "      --hover-fill-color: #174EA6;\n",
              "      --disabled-fill-color: #AAA;\n",
              "      --disabled-bg-color: #DDD;\n",
              "  }\n",
              "\n",
              "  [theme=dark] .colab-df-quickchart {\n",
              "      --bg-color: #3B4455;\n",
              "      --fill-color: #D2E3FC;\n",
              "      --hover-bg-color: #434B5C;\n",
              "      --hover-fill-color: #FFFFFF;\n",
              "      --disabled-bg-color: #3B4455;\n",
              "      --disabled-fill-color: #666;\n",
              "  }\n",
              "\n",
              "  .colab-df-quickchart {\n",
              "    background-color: var(--bg-color);\n",
              "    border: none;\n",
              "    border-radius: 50%;\n",
              "    cursor: pointer;\n",
              "    display: none;\n",
              "    fill: var(--fill-color);\n",
              "    height: 32px;\n",
              "    padding: 0;\n",
              "    width: 32px;\n",
              "  }\n",
              "\n",
              "  .colab-df-quickchart:hover {\n",
              "    background-color: var(--hover-bg-color);\n",
              "    box-shadow: 0 1px 2px rgba(60, 64, 67, 0.3), 0 1px 3px 1px rgba(60, 64, 67, 0.15);\n",
              "    fill: var(--button-hover-fill-color);\n",
              "  }\n",
              "\n",
              "  .colab-df-quickchart-complete:disabled,\n",
              "  .colab-df-quickchart-complete:disabled:hover {\n",
              "    background-color: var(--disabled-bg-color);\n",
              "    fill: var(--disabled-fill-color);\n",
              "    box-shadow: none;\n",
              "  }\n",
              "\n",
              "  .colab-df-spinner {\n",
              "    border: 2px solid var(--fill-color);\n",
              "    border-color: transparent;\n",
              "    border-bottom-color: var(--fill-color);\n",
              "    animation:\n",
              "      spin 1s steps(1) infinite;\n",
              "  }\n",
              "\n",
              "  @keyframes spin {\n",
              "    0% {\n",
              "      border-color: transparent;\n",
              "      border-bottom-color: var(--fill-color);\n",
              "      border-left-color: var(--fill-color);\n",
              "    }\n",
              "    20% {\n",
              "      border-color: transparent;\n",
              "      border-left-color: var(--fill-color);\n",
              "      border-top-color: var(--fill-color);\n",
              "    }\n",
              "    30% {\n",
              "      border-color: transparent;\n",
              "      border-left-color: var(--fill-color);\n",
              "      border-top-color: var(--fill-color);\n",
              "      border-right-color: var(--fill-color);\n",
              "    }\n",
              "    40% {\n",
              "      border-color: transparent;\n",
              "      border-right-color: var(--fill-color);\n",
              "      border-top-color: var(--fill-color);\n",
              "    }\n",
              "    60% {\n",
              "      border-color: transparent;\n",
              "      border-right-color: var(--fill-color);\n",
              "    }\n",
              "    80% {\n",
              "      border-color: transparent;\n",
              "      border-right-color: var(--fill-color);\n",
              "      border-bottom-color: var(--fill-color);\n",
              "    }\n",
              "    90% {\n",
              "      border-color: transparent;\n",
              "      border-bottom-color: var(--fill-color);\n",
              "    }\n",
              "  }\n",
              "</style>\n",
              "\n",
              "      <script>\n",
              "        async function quickchart(key) {\n",
              "          const quickchartButtonEl =\n",
              "            document.querySelector('#' + key + ' button');\n",
              "          quickchartButtonEl.disabled = true;  // To prevent multiple clicks.\n",
              "          quickchartButtonEl.classList.add('colab-df-spinner');\n",
              "          try {\n",
              "            const charts = await google.colab.kernel.invokeFunction(\n",
              "                'suggestCharts', [key], {});\n",
              "          } catch (error) {\n",
              "            console.error('Error during call to suggestCharts:', error);\n",
              "          }\n",
              "          quickchartButtonEl.classList.remove('colab-df-spinner');\n",
              "          quickchartButtonEl.classList.add('colab-df-quickchart-complete');\n",
              "        }\n",
              "        (() => {\n",
              "          let quickchartButtonEl =\n",
              "            document.querySelector('#df-6ae23cb4-241e-47c2-94a8-4bd099cd5dfc button');\n",
              "          quickchartButtonEl.style.display =\n",
              "            google.colab.kernel.accessAllowed ? 'block' : 'none';\n",
              "        })();\n",
              "      </script>\n",
              "    </div>\n",
              "\n",
              "    </div>\n",
              "  </div>\n"
            ],
            "application/vnd.google.colaboratory.intrinsic+json": {
              "type": "dataframe",
              "variable_name": "df1"
            }
          },
          "metadata": {},
          "execution_count": 5
        }
      ]
    },
    {
      "cell_type": "code",
      "source": [
        "df1.TALLA_NAC = df1.TALLA_NAC.astype(str)\n",
        "df1.TALLA_NAC.head(4)"
      ],
      "metadata": {
        "colab": {
          "base_uri": "https://localhost:8080/",
          "height": 345
        },
        "id": "kCPpwHnkKs39",
        "outputId": "8406a846-9463-45a4-8e8b-ca0d513dc4cc"
      },
      "execution_count": null,
      "outputs": [
        {
          "output_type": "stream",
          "name": "stderr",
          "text": [
            "<ipython-input-6-a35a92bc174c>:1: SettingWithCopyWarning: \n",
            "A value is trying to be set on a copy of a slice from a DataFrame.\n",
            "Try using .loc[row_indexer,col_indexer] = value instead\n",
            "\n",
            "See the caveats in the documentation: https://pandas.pydata.org/pandas-docs/stable/user_guide/indexing.html#returning-a-view-versus-a-copy\n",
            "  df1.TALLA_NAC = df1.TALLA_NAC.astype(str)\n"
          ]
        },
        {
          "output_type": "execute_result",
          "data": {
            "text/plain": [
              "COD_DPTO\n",
              "23    5\n",
              "11    4\n",
              "11    4\n",
              "11    5\n",
              "Name: TALLA_NAC, dtype: object"
            ],
            "text/html": [
              "<div>\n",
              "<style scoped>\n",
              "    .dataframe tbody tr th:only-of-type {\n",
              "        vertical-align: middle;\n",
              "    }\n",
              "\n",
              "    .dataframe tbody tr th {\n",
              "        vertical-align: top;\n",
              "    }\n",
              "\n",
              "    .dataframe thead th {\n",
              "        text-align: right;\n",
              "    }\n",
              "</style>\n",
              "<table border=\"1\" class=\"dataframe\">\n",
              "  <thead>\n",
              "    <tr style=\"text-align: right;\">\n",
              "      <th></th>\n",
              "      <th>TALLA_NAC</th>\n",
              "    </tr>\n",
              "    <tr>\n",
              "      <th>COD_DPTO</th>\n",
              "      <th></th>\n",
              "    </tr>\n",
              "  </thead>\n",
              "  <tbody>\n",
              "    <tr>\n",
              "      <th>23</th>\n",
              "      <td>5</td>\n",
              "    </tr>\n",
              "    <tr>\n",
              "      <th>11</th>\n",
              "      <td>4</td>\n",
              "    </tr>\n",
              "    <tr>\n",
              "      <th>11</th>\n",
              "      <td>4</td>\n",
              "    </tr>\n",
              "    <tr>\n",
              "      <th>11</th>\n",
              "      <td>5</td>\n",
              "    </tr>\n",
              "  </tbody>\n",
              "</table>\n",
              "</div><br><label><b>dtype:</b> object</label>"
            ]
          },
          "metadata": {},
          "execution_count": 6
        }
      ]
    },
    {
      "cell_type": "code",
      "source": [
        "df1.T_GES = df1.T_GES.astype(str)\n",
        "df1.T_GES.head(4)"
      ],
      "metadata": {
        "colab": {
          "base_uri": "https://localhost:8080/",
          "height": 345
        },
        "id": "Cm76zAyZnvt8",
        "outputId": "afb9d7a0-322d-46e7-d3a1-93f41721faa8"
      },
      "execution_count": null,
      "outputs": [
        {
          "output_type": "stream",
          "name": "stderr",
          "text": [
            "<ipython-input-7-d0fe5be781fd>:1: SettingWithCopyWarning: \n",
            "A value is trying to be set on a copy of a slice from a DataFrame.\n",
            "Try using .loc[row_indexer,col_indexer] = value instead\n",
            "\n",
            "See the caveats in the documentation: https://pandas.pydata.org/pandas-docs/stable/user_guide/indexing.html#returning-a-view-versus-a-copy\n",
            "  df1.T_GES = df1.T_GES.astype(str)\n"
          ]
        },
        {
          "output_type": "execute_result",
          "data": {
            "text/plain": [
              "COD_DPTO\n",
              "23    4\n",
              "11    4\n",
              "11    4\n",
              "11    4\n",
              "Name: T_GES, dtype: object"
            ],
            "text/html": [
              "<div>\n",
              "<style scoped>\n",
              "    .dataframe tbody tr th:only-of-type {\n",
              "        vertical-align: middle;\n",
              "    }\n",
              "\n",
              "    .dataframe tbody tr th {\n",
              "        vertical-align: top;\n",
              "    }\n",
              "\n",
              "    .dataframe thead th {\n",
              "        text-align: right;\n",
              "    }\n",
              "</style>\n",
              "<table border=\"1\" class=\"dataframe\">\n",
              "  <thead>\n",
              "    <tr style=\"text-align: right;\">\n",
              "      <th></th>\n",
              "      <th>T_GES</th>\n",
              "    </tr>\n",
              "    <tr>\n",
              "      <th>COD_DPTO</th>\n",
              "      <th></th>\n",
              "    </tr>\n",
              "  </thead>\n",
              "  <tbody>\n",
              "    <tr>\n",
              "      <th>23</th>\n",
              "      <td>4</td>\n",
              "    </tr>\n",
              "    <tr>\n",
              "      <th>11</th>\n",
              "      <td>4</td>\n",
              "    </tr>\n",
              "    <tr>\n",
              "      <th>11</th>\n",
              "      <td>4</td>\n",
              "    </tr>\n",
              "    <tr>\n",
              "      <th>11</th>\n",
              "      <td>4</td>\n",
              "    </tr>\n",
              "  </tbody>\n",
              "</table>\n",
              "</div><br><label><b>dtype:</b> object</label>"
            ]
          },
          "metadata": {},
          "execution_count": 7
        }
      ]
    },
    {
      "cell_type": "code",
      "source": [
        "df1.loc[(df1.TALLA_NAC ==\"1\"),\"TALLA_NAC\"] = \"< 20\"\n",
        "df1.loc[(df1.TALLA_NAC ==\"2\"),\"TALLA_NAC\"] = \"20-29\"\n",
        "df1.loc[(df1.TALLA_NAC ==\"3\"),\"TALLA_NAC\"] = \"30-39\"\n",
        "df1.loc[(df1.TALLA_NAC ==\"4\"),\"TALLA_NAC\"] = \"40-49\"\n",
        "df1.loc[(df1.TALLA_NAC ==\"5\"),\"TALLA_NAC\"] = \"50-59\"\n",
        "df1.loc[(df1.TALLA_NAC ==\"6\"),\"TALLA_NAC\"] = \"> 60\"\n",
        "df1.loc[(df1.TALLA_NAC ==\"9\"),\"TALLA_NAC\"] = \"NA\"\n",
        "\n",
        "\n",
        "df1.loc[(df1.T_GES ==\"1\"),\"T_GES\"] = \"< 22\"\n",
        "df1.loc[(df1.T_GES ==\"2\"),\"T_GES\"] = \"22-27\"\n",
        "df1.loc[(df1.T_GES ==\"3\"),\"T_GES\"] = \"28-37\"\n",
        "df1.loc[(df1.T_GES ==\"4\"),\"T_GES\"] = \"38-41\"\n",
        "df1.loc[(df1.T_GES ==\"5\"),\"T_GES\"] = \"> 42\"\n",
        "df1.loc[(df1.T_GES ==\"6\"),\"T_GES\"] = \"IGNORADO\"\n",
        "df1.loc[(df1.T_GES ==\"9\"),\"T_GES\"] = \"NA\""
      ],
      "metadata": {
        "id": "eQXI44nRO7FN"
      },
      "execution_count": null,
      "outputs": []
    },
    {
      "cell_type": "markdown",
      "source": [
        "### $\\text{Gráficas para Talla de un recien nacido en Colombia}$"
      ],
      "metadata": {
        "id": "8WVzynajVf8k"
      }
    },
    {
      "cell_type": "code",
      "source": [
        "\n",
        "x_values = df1.TALLA_NAC.unique()\n",
        "y_values = df1.TALLA_NAC.value_counts().tolist()\n",
        "\n",
        "plt.figure(figsize=(8, 5))\n",
        "plt.bar(x_values, y_values, color=\"#7FB3D5\")\n",
        "\n",
        "plt.title(\"Distribución de TALLA_NAC\", fontsize=14)\n",
        "plt.xlabel(\"Categorías de TALLA_NAC\", fontsize=12)\n",
        "plt.ylabel(\"Frecuencia\", fontsize=12)\n",
        "\n",
        "plt.xticks(rotation=45)\n",
        "plt.grid(axis='y', linestyle='--', alpha=0.5)\n",
        "plt.tight_layout()\n",
        "\n",
        "plt.show()"
      ],
      "metadata": {
        "colab": {
          "base_uri": "https://localhost:8080/",
          "height": 507
        },
        "id": "IILwZdK8MZW_",
        "outputId": "efd5a5a0-b1a3-4364-b371-388a222e580d"
      },
      "execution_count": null,
      "outputs": [
        {
          "output_type": "display_data",
          "data": {
            "text/plain": [
              "<Figure size 800x500 with 1 Axes>"
            ],
            "image/png": "[encoded data removed]"
          },
          "metadata": {}
        }
      ]
    },
    {
      "cell_type": "markdown",
      "source": [
        "La distribución de la talla al nacer **(TALLA_NAC)** muestra una clara concentración en los rangos **50-59 cm y 40-49 cm**, siendo el primero el más frecuente. Estos dos rangos abarcan prácticamente la totalidad de los registros, lo cual indica que la mayoría de los nacimientos se dan con tallas consideradas **normales o esperadas** según los estándares neonatales.\n",
        "\n",
        "En contraste, las categorías extremas como **\"< 20\", \"20-29\", \"30-39\" y \"> 60\"** presentan frecuencias muy bajas, lo que sugiere que nacimientos con tallas atípicas son **poco comunes** en esta población.\n",
        "\n",
        "Esta distribución refleja una tendencia central bien definida y puede ser útil para detectar casos atípicos o anómalos en controles neonatales."
      ],
      "metadata": {
        "id": "mChSleVGNBtq"
      }
    },
    {
      "cell_type": "code",
      "source": [
        "sizes=np.array(y_values)\n",
        "sizes"
      ],
      "metadata": {
        "colab": {
          "base_uri": "https://localhost:8080/"
        },
        "id": "O_4zNpUzNBZo",
        "outputId": "b45f3c67-105c-471f-cac8-14aedb9c8e45"
      },
      "execution_count": null,
      "outputs": [
        {
          "output_type": "execute_result",
          "data": {
            "text/plain": [
              "array([267220, 236205,   5071,    307,     20,      4])"
            ]
          },
          "metadata": {},
          "execution_count": 10
        }
      ]
    },
    {
      "cell_type": "code",
      "source": [
        "\n",
        "x_values = df1.TALLA_NAC.unique()\n",
        "y_values = df1.TALLA_NAC.value_counts().tolist()\n",
        "\n",
        "\n",
        "plt.figure(figsize=(6, 6))\n",
        "colors = plt.cm.Pastel1.colors\n",
        "\n",
        "plt.pie(\n",
        "    y_values,\n",
        "    labels=x_values,\n",
        "    autopct='%1.1f%%',\n",
        "    colors=colors,\n",
        "    startangle=90,\n",
        "    wedgeprops={'edgecolor': 'white'}\n",
        ")\n",
        "\n",
        "\n",
        "plt.title(\"Distribución porcentual de TALLA_NAC\", fontsize=14)\n",
        "plt.axis('equal')\n",
        "\n",
        "\n",
        "plt.tight_layout()\n",
        "plt.show()\n"
      ],
      "metadata": {
        "colab": {
          "base_uri": "https://localhost:8080/",
          "height": 607
        },
        "id": "1s05qNoz_02o",
        "outputId": "999e5003-fdd2-4608-a725-d4648f03fa6b"
      },
      "execution_count": null,
      "outputs": [
        {
          "output_type": "display_data",
          "data": {
            "text/plain": [
              "<Figure size 600x600 with 1 Axes>"
            ],
            "image/png": "[encoded data removed]"
          },
          "metadata": {}
        }
      ]
    },
    {
      "cell_type": "code",
      "source": [
        "len(df1.TALLA_NAC)"
      ],
      "metadata": {
        "colab": {
          "base_uri": "https://localhost:8080/"
        },
        "id": "6nNvvp-bArL7",
        "outputId": "e983b12d-cbb3-439c-deb7-fa3d7f9a343f"
      },
      "execution_count": null,
      "outputs": [
        {
          "output_type": "execute_result",
          "data": {
            "text/plain": [
              "508827"
            ]
          },
          "metadata": {},
          "execution_count": 12
        }
      ]
    },
    {
      "cell_type": "code",
      "source": [
        "porcentaje = [(x/len(df1.TALLA_NAC)*100) for x in y_values]\n",
        "print(x_values)\n",
        "print(porcentaje)"
      ],
      "metadata": {
        "colab": {
          "base_uri": "https://localhost:8080/"
        },
        "id": "J7dvv5TaAZJY",
        "outputId": "b351efef-8556-4769-9b34-e249fe59b578"
      },
      "execution_count": null,
      "outputs": [
        {
          "output_type": "stream",
          "name": "stdout",
          "text": [
            "['50-59' '40-49' '30-39' '20-29' '> 60' '< 20']\n",
            "[52.516867225992335, 46.421475275486564, 0.9966059191041355, 0.060334848583113714, 0.0039306090282158765, 0.0007861218056431753]\n"
          ]
        }
      ]
    },
    {
      "cell_type": "markdown",
      "source": [
        "Aproximadamente el **52.5%** de los recién nacidos en Colombia presentan una talla entre **50 y 59 cm**, lo que representa la categoría más frecuente. Le sigue el rango de **40 a 49 cm**, con un **46.4%**. Estas dos categorías abarcan la **gran mayoría de los nacimientos**, lo que evidencia que las tallas al nacer en la población colombiana se encuentran mayoritariamente dentro de los valores considerados normales.\n",
        "\n",
        "En contraste, las demás categorías como **30–39 cm, 20–29 cm, < 20 cm y > 60 cm** tienen una representación inferior al **1%**, indicando que los nacimientos con tallas fuera del rango típico son **poco comunes**.\n",
        "\n",
        "Este comportamiento sugiere un patrón de crecimiento fetal saludable en la mayoría de los casos, aunque también resalta la importancia de monitorear adecuadamente los extremos por su posible asociación con condiciones clínicas específicas."
      ],
      "metadata": {
        "id": "08J6LKTACH8C"
      }
    },
    {
      "cell_type": "markdown",
      "source": [
        "### $\\text{Gráficas para T_Ges}$"
      ],
      "metadata": {
        "id": "sAsStD6wVx7Y"
      }
    },
    {
      "cell_type": "code",
      "source": [
        "\n",
        "x_values = df1.T_GES.unique()\n",
        "y_values = df1.T_GES.value_counts().tolist()\n",
        "\n",
        "plt.figure(figsize=(8, 5))\n",
        "plt.bar(x_values, y_values, color=\"#8E44AD\")\n",
        "\n",
        "plt.title(\"Distribución de T_GES\", fontsize=14)\n",
        "plt.xlabel(\"Categorías de T_GES\", fontsize=12)\n",
        "plt.ylabel(\"Frecuencia\", fontsize=12)\n",
        "\n",
        "plt.xticks(rotation=45)\n",
        "plt.grid(axis='y', linestyle='--', alpha=0.5)\n",
        "plt.tight_layout()\n",
        "\n",
        "plt.show()\n"
      ],
      "metadata": {
        "colab": {
          "base_uri": "https://localhost:8080/",
          "height": 507
        },
        "id": "E4LruOIYV6cf",
        "outputId": "54eb13e1-57a9-41f3-8909-4a0be2bdb633"
      },
      "execution_count": null,
      "outputs": [
        {
          "output_type": "display_data",
          "data": {
            "text/plain": [
              "<Figure size 800x500 with 1 Axes>"
            ],
            "image/png": "[encoded data removed]"
          },
          "metadata": {}
        }
      ]
    },
    {
      "cell_type": "markdown",
      "source": [
        "La mayoría de los recién nacidos en Colombia tienen una edad gestacional entre **38 y 41 semanas**, lo cual corresponde a una gestación **a término**, con más de **360,000 casos**. Esta categoría representa la condición ideal para el nacimiento, en la que se espera un desarrollo fetal completo y adecuado.\n",
        "\n",
        "El segundo grupo más frecuente corresponde a las edades gestacionales entre **28 y 37 semanas**, es decir, **nacimientos prematuros**, con más de **130,000 casos**. Aunque menos comunes, su presencia en la distribución indica que una proporción importante de nacimientos ocurre antes de alcanzar la gestación completa.\n",
        "\n",
        "Las demás categorías, como **< 22 semanas, 22–27 semanas, > 42** semanas o registros **ignorados**, presentan una frecuencia mínima, lo que podría indicar tanto **casos excepcionales** como posibles **errores de registro o datos incompletos**.\n",
        "\n",
        "Esta distribución refleja una tendencia positiva en términos de salud materno-infantil, pero también destaca la necesidad de reforzar acciones para reducir el número de nacimientos prematuros."
      ],
      "metadata": {
        "id": "vmmgQRCgaQ0K"
      }
    },
    {
      "cell_type": "code",
      "source": [
        "sizes=np.array(y_values)\n",
        "sizes"
      ],
      "metadata": {
        "colab": {
          "base_uri": "https://localhost:8080/"
        },
        "id": "IKsHts3eXuc3",
        "outputId": "e512b4d4-974a-4aad-afab-1c4fef913fbc"
      },
      "execution_count": null,
      "outputs": [
        {
          "output_type": "execute_result",
          "data": {
            "text/plain": [
              "array([371090, 134513,   1950,    778,    477,     19])"
            ]
          },
          "metadata": {},
          "execution_count": 15
        }
      ]
    },
    {
      "cell_type": "code",
      "source": [
        "\n",
        "x_values = df1.T_GES.unique()\n",
        "y_values = df1.T_GES.value_counts().tolist()\n",
        "\n",
        "\n",
        "plt.figure(figsize=(6, 6))\n",
        "colors = plt.cm.Pastel2.colors\n",
        "\n",
        "plt.pie(\n",
        "    y_values,\n",
        "    labels=x_values,\n",
        "    autopct='%1.1f%%',\n",
        "    colors=colors,\n",
        "    startangle=90,\n",
        "    wedgeprops={'edgecolor': 'white'}\n",
        ")\n",
        "\n",
        "\n",
        "plt.title(\"Distribución porcentual de T_GES\", fontsize=14)\n",
        "plt.axis('equal')\n",
        "\n",
        "\n",
        "plt.tight_layout()\n",
        "plt.show()\n"
      ],
      "metadata": {
        "colab": {
          "base_uri": "https://localhost:8080/",
          "height": 607
        },
        "id": "WvI3uBjqX4hC",
        "outputId": "03a58362-f169-4241-f614-18d6dbc13690"
      },
      "execution_count": null,
      "outputs": [
        {
          "output_type": "display_data",
          "data": {
            "text/plain": [
              "<Figure size 600x600 with 1 Axes>"
            ],
            "image/png": "[encoded data removed]"
          },
          "metadata": {}
        }
      ]
    },
    {
      "cell_type": "code",
      "source": [
        "len(df1.T_GES)"
      ],
      "metadata": {
        "colab": {
          "base_uri": "https://localhost:8080/"
        },
        "id": "TLwXVkqhYkwJ",
        "outputId": "29bd9351-06f5-4af3-93d1-66d7212f3b51"
      },
      "execution_count": null,
      "outputs": [
        {
          "output_type": "execute_result",
          "data": {
            "text/plain": [
              "508827"
            ]
          },
          "metadata": {},
          "execution_count": 17
        }
      ]
    },
    {
      "cell_type": "code",
      "source": [
        "porcentaje = [(x/len(df1.T_GES)*100) for x in y_values]\n",
        "print(x_values)\n",
        "print(porcentaje)"
      ],
      "metadata": {
        "colab": {
          "base_uri": "https://localhost:8080/"
        },
        "id": "OAu33EqMYwXF",
        "outputId": "cf23bd9d-9c5e-410f-c8cc-15346732db27"
      },
      "execution_count": null,
      "outputs": [
        {
          "output_type": "stream",
          "name": "stdout",
          "text": [
            "['38-41' '28-37' '> 42' '22-27' 'IGNORADO' '< 22']\n",
            "[72.93048521403149, 26.43590061062011, 0.383234380251048, 0.1529006911975976, 0.09374502532294866, 0.003734078576805083]\n"
          ]
        }
      ]
    },
    {
      "cell_type": "markdown",
      "source": [
        "Al analizar la distribución porcentual de la edad gestacional (T_GES), se observa que aproximadamente el **72.9%** de los recién nacidos en Colombia nacen entre las **38 y 41 semanas**, lo que corresponde a una gestación a término y refleja una condición de salud materno-fetal **óptima y predominante** en la población.\n",
        "\n",
        "Un **26.4%** de los nacimientos se produce entre las **28 y 37 semanas**, lo que indica una proporción significativa de **nacimientos prematuros** que podrían requerir cuidados neonatales especiales.\n",
        "\n",
        "Las demás categorías **42 semanas (0.38%), 22–27 semanas (0.15%), < 22 semanas (0.003%) y casos ignorados (0.09%)** representan una fracción muy pequeña del total, pero no deben ser ignoradas, ya que pueden estar asociadas a **riesgos obstétricos mayores o a problemas en la calidad del registro de datos**.\n",
        "\n",
        "En conjunto, la distribución revela que aunque la mayoría de los nacimientos ocurren dentro del rango esperado, todavía hay un porcentaje considerable de partos prematuros que deben ser atendidos con prioridad en las políticas de salud pública."
      ],
      "metadata": {
        "id": "zu1shvQGa4tg"
      }
    },
    {
      "cell_type": "markdown",
      "source": [
        "TABLAS DE CONTINGENCIA\n",
        "\n",
        "\n",
        "\n",
        "*   Representación grafica de una tabla de contingencia.\n",
        "*   Proporciones asociadas a una tabla de contingencia.\n",
        "\n"
      ],
      "metadata": {
        "id": "gdYfENCIC4vk"
      }
    },
    {
      "cell_type": "code",
      "source": [
        "df1.head(4)"
      ],
      "metadata": {
        "colab": {
          "base_uri": "https://localhost:8080/",
          "height": 206
        },
        "id": "H0Ylgbz4EGjW",
        "outputId": "f2e05c61-9321-4444-8e8c-b40920233bae"
      },
      "execution_count": null,
      "outputs": [
        {
          "output_type": "execute_result",
          "data": {
            "text/plain": [
              "          T_GES TALLA_NAC\n",
              "COD_DPTO                 \n",
              "23        38-41     50-59\n",
              "11        38-41     40-49\n",
              "11        38-41     40-49\n",
              "11        38-41     50-59"
            ],
            "text/html": [
              "\n",
              "  <div id=\"df-c05336e3-79fa-4917-ba60-7868a72cbcab\" class=\"colab-df-container\">\n",
              "    <div>\n",
              "<style scoped>\n",
              "    .dataframe tbody tr th:only-of-type {\n",
              "        vertical-align: middle;\n",
              "    }\n",
              "\n",
              "    .dataframe tbody tr th {\n",
              "        vertical-align: top;\n",
              "    }\n",
              "\n",
              "    .dataframe thead th {\n",
              "        text-align: right;\n",
              "    }\n",
              "</style>\n",
              "<table border=\"1\" class=\"dataframe\">\n",
              "  <thead>\n",
              "    <tr style=\"text-align: right;\">\n",
              "      <th></th>\n",
              "      <th>T_GES</th>\n",
              "      <th>TALLA_NAC</th>\n",
              "    </tr>\n",
              "    <tr>\n",
              "      <th>COD_DPTO</th>\n",
              "      <th></th>\n",
              "      <th></th>\n",
              "    </tr>\n",
              "  </thead>\n",
              "  <tbody>\n",
              "    <tr>\n",
              "      <th>23</th>\n",
              "      <td>38-41</td>\n",
              "      <td>50-59</td>\n",
              "    </tr>\n",
              "    <tr>\n",
              "      <th>11</th>\n",
              "      <td>38-41</td>\n",
              "      <td>40-49</td>\n",
              "    </tr>\n",
              "    <tr>\n",
              "      <th>11</th>\n",
              "      <td>38-41</td>\n",
              "      <td>40-49</td>\n",
              "    </tr>\n",
              "    <tr>\n",
              "      <th>11</th>\n",
              "      <td>38-41</td>\n",
              "      <td>50-59</td>\n",
              "    </tr>\n",
              "  </tbody>\n",
              "</table>\n",
              "</div>\n",
              "    <div class=\"colab-df-buttons\">\n",
              "\n",
              "  <div class=\"colab-df-container\">\n",
              "    <button class=\"colab-df-convert\" onclick=\"convertToInteractive('df-c05336e3-79fa-4917-ba60-7868a72cbcab')\"\n",
              "            title=\"Convert this dataframe to an interactive table.\"\n",
              "            style=\"display:none;\">\n",
              "\n",
              "  <svg xmlns=\"http://www.w3.org/2000/svg\" height=\"24px\" viewBox=\"0 -960 960 960\">\n",
              "    <path d=\"M120-120v-720h720v720H120Zm60-500h600v-160H180v160Zm220 220h160v-160H400v160Zm0 220h160v-160H400v160ZM180-400h160v-160H180v160Zm440 0h160v-160H620v160ZM180-180h160v-160H180v160Zm440 0h160v-160H620v160Z\"/>\n",
              "  </svg>\n",
              "    </button>\n",
              "\n",
              "  <style>\n",
              "    .colab-df-container {\n",
              "      display:flex;\n",
              "      gap: 12px;\n",
              "    }\n",
              "\n",
              "    .colab-df-convert {\n",
              "      background-color: #E8F0FE;\n",
              "      border: none;\n",
              "      border-radius: 50%;\n",
              "      cursor: pointer;\n",
              "      display: none;\n",
              "      fill: #1967D2;\n",
              "      height: 32px;\n",
              "      padding: 0 0 0 0;\n",
              "      width: 32px;\n",
              "    }\n",
              "\n",
              "    .colab-df-convert:hover {\n",
              "      background-color: #E2EBFA;\n",
              "      box-shadow: 0px 1px 2px rgba(60, 64, 67, 0.3), 0px 1px 3px 1px rgba(60, 64, 67, 0.15);\n",
              "      fill: #174EA6;\n",
              "    }\n",
              "\n",
              "    .colab-df-buttons div {\n",
              "      margin-bottom: 4px;\n",
              "    }\n",
              "\n",
              "    [theme=dark] .colab-df-convert {\n",
              "      background-color: #3B4455;\n",
              "      fill: #D2E3FC;\n",
              "    }\n",
              "\n",
              "    [theme=dark] .colab-df-convert:hover {\n",
              "      background-color: #434B5C;\n",
              "      box-shadow: 0px 1px 3px 1px rgba(0, 0, 0, 0.15);\n",
              "      filter: drop-shadow(0px 1px 2px rgba(0, 0, 0, 0.3));\n",
              "      fill: #FFFFFF;\n",
              "    }\n",
              "  </style>\n",
              "\n",
              "    <script>\n",
              "      const buttonEl =\n",
              "        document.querySelector('#df-c05336e3-79fa-4917-ba60-7868a72cbcab button.colab-df-convert');\n",
              "      buttonEl.style.display =\n",
              "        google.colab.kernel.accessAllowed ? 'block' : 'none';\n",
              "\n",
              "      async function convertToInteractive(key) {\n",
              "        const element = document.querySelector('#df-c05336e3-79fa-4917-ba60-7868a72cbcab');\n",
              "        const dataTable =\n",
              "          await google.colab.kernel.invokeFunction('convertToInteractive',\n",
              "                                                    [key], {});\n",
              "        if (!dataTable) return;\n",
              "\n",
              "        const docLinkHtml = 'Like what you see? Visit the ' +\n",
              "          '<a target=\"_blank\" href=https://colab.research.google.com/notebooks/data_table.ipynb>data table notebook</a>'\n",
              "          + ' to learn more about interactive tables.';\n",
              "        element.innerHTML = '';\n",
              "        dataTable['output_type'] = 'display_data';\n",
              "        await google.colab.output.renderOutput(dataTable, element);\n",
              "        const docLink = document.createElement('div');\n",
              "        docLink.innerHTML = docLinkHtml;\n",
              "        element.appendChild(docLink);\n",
              "      }\n",
              "    </script>\n",
              "  </div>\n",
              "\n",
              "\n",
              "    <div id=\"df-21c9b250-bba0-48d8-9e98-a4552fd82120\">\n",
              "      <button class=\"colab-df-quickchart\" onclick=\"quickchart('df-21c9b250-bba0-48d8-9e98-a4552fd82120')\"\n",
              "                title=\"Suggest charts\"\n",
              "                style=\"display:none;\">\n",
              "\n",
              "<svg xmlns=\"http://www.w3.org/2000/svg\" height=\"24px\"viewBox=\"0 0 24 24\"\n",
              "     width=\"24px\">\n",
              "    <g>\n",
              "        <path d=\"M19 3H5c-1.1 0-2 .9-2 2v14c0 1.1.9 2 2 2h14c1.1 0 2-.9 2-2V5c0-1.1-.9-2-2-2zM9 17H7v-7h2v7zm4 0h-2V7h2v10zm4 0h-2v-4h2v4z\"/>\n",
              "    </g>\n",
              "</svg>\n",
              "      </button>\n",
              "\n",
              "<style>\n",
              "  .colab-df-quickchart {\n",
              "      --bg-color: #E8F0FE;\n",
              "      --fill-color: #1967D2;\n",
              "      --hover-bg-color: #E2EBFA;\n",
              "      --hover-fill-color: #174EA6;\n",
              "      --disabled-fill-color: #AAA;\n",
              "      --disabled-bg-color: #DDD;\n",
              "  }\n",
              "\n",
              "  [theme=dark] .colab-df-quickchart {\n",
              "      --bg-color: #3B4455;\n",
              "      --fill-color: #D2E3FC;\n",
              "      --hover-bg-color: #434B5C;\n",
              "      --hover-fill-color: #FFFFFF;\n",
              "      --disabled-bg-color: #3B4455;\n",
              "      --disabled-fill-color: #666;\n",
              "  }\n",
              "\n",
              "  .colab-df-quickchart {\n",
              "    background-color: var(--bg-color);\n",
              "    border: none;\n",
              "    border-radius: 50%;\n",
              "    cursor: pointer;\n",
              "    display: none;\n",
              "    fill: var(--fill-color);\n",
              "    height: 32px;\n",
              "    padding: 0;\n",
              "    width: 32px;\n",
              "  }\n",
              "\n",
              "  .colab-df-quickchart:hover {\n",
              "    background-color: var(--hover-bg-color);\n",
              "    box-shadow: 0 1px 2px rgba(60, 64, 67, 0.3), 0 1px 3px 1px rgba(60, 64, 67, 0.15);\n",
              "    fill: var(--button-hover-fill-color);\n",
              "  }\n",
              "\n",
              "  .colab-df-quickchart-complete:disabled,\n",
              "  .colab-df-quickchart-complete:disabled:hover {\n",
              "    background-color: var(--disabled-bg-color);\n",
              "    fill: var(--disabled-fill-color);\n",
              "    box-shadow: none;\n",
              "  }\n",
              "\n",
              "  .colab-df-spinner {\n",
              "    border: 2px solid var(--fill-color);\n",
              "    border-color: transparent;\n",
              "    border-bottom-color: var(--fill-color);\n",
              "    animation:\n",
              "      spin 1s steps(1) infinite;\n",
              "  }\n",
              "\n",
              "  @keyframes spin {\n",
              "    0% {\n",
              "      border-color: transparent;\n",
              "      border-bottom-color: var(--fill-color);\n",
              "      border-left-color: var(--fill-color);\n",
              "    }\n",
              "    20% {\n",
              "      border-color: transparent;\n",
              "      border-left-color: var(--fill-color);\n",
              "      border-top-color: var(--fill-color);\n",
              "    }\n",
              "    30% {\n",
              "      border-color: transparent;\n",
              "      border-left-color: var(--fill-color);\n",
              "      border-top-color: var(--fill-color);\n",
              "      border-right-color: var(--fill-color);\n",
              "    }\n",
              "    40% {\n",
              "      border-color: transparent;\n",
              "      border-right-color: var(--fill-color);\n",
              "      border-top-color: var(--fill-color);\n",
              "    }\n",
              "    60% {\n",
              "      border-color: transparent;\n",
              "      border-right-color: var(--fill-color);\n",
              "    }\n",
              "    80% {\n",
              "      border-color: transparent;\n",
              "      border-right-color: var(--fill-color);\n",
              "      border-bottom-color: var(--fill-color);\n",
              "    }\n",
              "    90% {\n",
              "      border-color: transparent;\n",
              "      border-bottom-color: var(--fill-color);\n",
              "    }\n",
              "  }\n",
              "</style>\n",
              "\n",
              "      <script>\n",
              "        async function quickchart(key) {\n",
              "          const quickchartButtonEl =\n",
              "            document.querySelector('#' + key + ' button');\n",
              "          quickchartButtonEl.disabled = true;  // To prevent multiple clicks.\n",
              "          quickchartButtonEl.classList.add('colab-df-spinner');\n",
              "          try {\n",
              "            const charts = await google.colab.kernel.invokeFunction(\n",
              "                'suggestCharts', [key], {});\n",
              "          } catch (error) {\n",
              "            console.error('Error during call to suggestCharts:', error);\n",
              "          }\n",
              "          quickchartButtonEl.classList.remove('colab-df-spinner');\n",
              "          quickchartButtonEl.classList.add('colab-df-quickchart-complete');\n",
              "        }\n",
              "        (() => {\n",
              "          let quickchartButtonEl =\n",
              "            document.querySelector('#df-21c9b250-bba0-48d8-9e98-a4552fd82120 button');\n",
              "          quickchartButtonEl.style.display =\n",
              "            google.colab.kernel.accessAllowed ? 'block' : 'none';\n",
              "        })();\n",
              "      </script>\n",
              "    </div>\n",
              "\n",
              "    </div>\n",
              "  </div>\n"
            ],
            "application/vnd.google.colaboratory.intrinsic+json": {
              "type": "dataframe",
              "variable_name": "df1"
            }
          },
          "metadata": {},
          "execution_count": 19
        }
      ]
    },
    {
      "cell_type": "code",
      "source": [
        "tabla_cont = pd.crosstab(df1.TALLA_NAC,df1.T_GES)\n",
        "tabla_cont"
      ],
      "metadata": {
        "colab": {
          "base_uri": "https://localhost:8080/",
          "height": 269
        },
        "id": "gKRlorHwC2oI",
        "outputId": "4f832be4-c128-4424-ee4b-1c670c3d0745"
      },
      "execution_count": null,
      "outputs": [
        {
          "output_type": "execute_result",
          "data": {
            "text/plain": [
              "T_GES      22-27  28-37   38-41  < 22  > 42  IGNORADO\n",
              "TALLA_NAC                                            \n",
              "20-29        251     44       0    11     0         1\n",
              "30-39       1646   3357      46     5     0        17\n",
              "40-49         50  95455  140106     0   116       478\n",
              "50-59          1  35657  230919     1   360       282\n",
              "< 20           2      0       0     2     0         0\n",
              "> 60           0      0      19     0     1         0"
            ],
            "text/html": [
              "\n",
              "  <div id=\"df-31e30311-f406-4ba2-8ccc-eed037ce44ac\" class=\"colab-df-container\">\n",
              "    <div>\n",
              "<style scoped>\n",
              "    .dataframe tbody tr th:only-of-type {\n",
              "        vertical-align: middle;\n",
              "    }\n",
              "\n",
              "    .dataframe tbody tr th {\n",
              "        vertical-align: top;\n",
              "    }\n",
              "\n",
              "    .dataframe thead th {\n",
              "        text-align: right;\n",
              "    }\n",
              "</style>\n",
              "<table border=\"1\" class=\"dataframe\">\n",
              "  <thead>\n",
              "    <tr style=\"text-align: right;\">\n",
              "      <th>T_GES</th>\n",
              "      <th>22-27</th>\n",
              "      <th>28-37</th>\n",
              "      <th>38-41</th>\n",
              "      <th>&lt; 22</th>\n",
              "      <th>&gt; 42</th>\n",
              "      <th>IGNORADO</th>\n",
              "    </tr>\n",
              "    <tr>\n",
              "      <th>TALLA_NAC</th>\n",
              "      <th></th>\n",
              "      <th></th>\n",
              "      <th></th>\n",
              "      <th></th>\n",
              "      <th></th>\n",
              "      <th></th>\n",
              "    </tr>\n",
              "  </thead>\n",
              "  <tbody>\n",
              "    <tr>\n",
              "      <th>20-29</th>\n",
              "      <td>251</td>\n",
              "      <td>44</td>\n",
              "      <td>0</td>\n",
              "      <td>11</td>\n",
              "      <td>0</td>\n",
              "      <td>1</td>\n",
              "    </tr>\n",
              "    <tr>\n",
              "      <th>30-39</th>\n",
              "      <td>1646</td>\n",
              "      <td>3357</td>\n",
              "      <td>46</td>\n",
              "      <td>5</td>\n",
              "      <td>0</td>\n",
              "      <td>17</td>\n",
              "    </tr>\n",
              "    <tr>\n",
              "      <th>40-49</th>\n",
              "      <td>50</td>\n",
              "      <td>95455</td>\n",
              "      <td>140106</td>\n",
              "      <td>0</td>\n",
              "      <td>116</td>\n",
              "      <td>478</td>\n",
              "    </tr>\n",
              "    <tr>\n",
              "      <th>50-59</th>\n",
              "      <td>1</td>\n",
              "      <td>35657</td>\n",
              "      <td>230919</td>\n",
              "      <td>1</td>\n",
              "      <td>360</td>\n",
              "      <td>282</td>\n",
              "    </tr>\n",
              "    <tr>\n",
              "      <th>&lt; 20</th>\n",
              "      <td>2</td>\n",
              "      <td>0</td>\n",
              "      <td>0</td>\n",
              "      <td>2</td>\n",
              "      <td>0</td>\n",
              "      <td>0</td>\n",
              "    </tr>\n",
              "    <tr>\n",
              "      <th>&gt; 60</th>\n",
              "      <td>0</td>\n",
              "      <td>0</td>\n",
              "      <td>19</td>\n",
              "      <td>0</td>\n",
              "      <td>1</td>\n",
              "      <td>0</td>\n",
              "    </tr>\n",
              "  </tbody>\n",
              "</table>\n",
              "</div>\n",
              "    <div class=\"colab-df-buttons\">\n",
              "\n",
              "  <div class=\"colab-df-container\">\n",
              "    <button class=\"colab-df-convert\" onclick=\"convertToInteractive('df-31e30311-f406-4ba2-8ccc-eed037ce44ac')\"\n",
              "            title=\"Convert this dataframe to an interactive table.\"\n",
              "            style=\"display:none;\">\n",
              "\n",
              "  <svg xmlns=\"http://www.w3.org/2000/svg\" height=\"24px\" viewBox=\"0 -960 960 960\">\n",
              "    <path d=\"M120-120v-720h720v720H120Zm60-500h600v-160H180v160Zm220 220h160v-160H400v160Zm0 220h160v-160H400v160ZM180-400h160v-160H180v160Zm440 0h160v-160H620v160ZM180-180h160v-160H180v160Zm440 0h160v-160H620v160Z\"/>\n",
              "  </svg>\n",
              "    </button>\n",
              "\n",
              "  <style>\n",
              "    .colab-df-container {\n",
              "      display:flex;\n",
              "      gap: 12px;\n",
              "    }\n",
              "\n",
              "    .colab-df-convert {\n",
              "      background-color: #E8F0FE;\n",
              "      border: none;\n",
              "      border-radius: 50%;\n",
              "      cursor: pointer;\n",
              "      display: none;\n",
              "      fill: #1967D2;\n",
              "      height: 32px;\n",
              "      padding: 0 0 0 0;\n",
              "      width: 32px;\n",
              "    }\n",
              "\n",
              "    .colab-df-convert:hover {\n",
              "      background-color: #E2EBFA;\n",
              "      box-shadow: 0px 1px 2px rgba(60, 64, 67, 0.3), 0px 1px 3px 1px rgba(60, 64, 67, 0.15);\n",
              "      fill: #174EA6;\n",
              "    }\n",
              "\n",
              "    .colab-df-buttons div {\n",
              "      margin-bottom: 4px;\n",
              "    }\n",
              "\n",
              "    [theme=dark] .colab-df-convert {\n",
              "      background-color: #3B4455;\n",
              "      fill: #D2E3FC;\n",
              "    }\n",
              "\n",
              "    [theme=dark] .colab-df-convert:hover {\n",
              "      background-color: #434B5C;\n",
              "      box-shadow: 0px 1px 3px 1px rgba(0, 0, 0, 0.15);\n",
              "      filter: drop-shadow(0px 1px 2px rgba(0, 0, 0, 0.3));\n",
              "      fill: #FFFFFF;\n",
              "    }\n",
              "  </style>\n",
              "\n",
              "    <script>\n",
              "      const buttonEl =\n",
              "        document.querySelector('#df-31e30311-f406-4ba2-8ccc-eed037ce44ac button.colab-df-convert');\n",
              "      buttonEl.style.display =\n",
              "        google.colab.kernel.accessAllowed ? 'block' : 'none';\n",
              "\n",
              "      async function convertToInteractive(key) {\n",
              "        const element = document.querySelector('#df-31e30311-f406-4ba2-8ccc-eed037ce44ac');\n",
              "        const dataTable =\n",
              "          await google.colab.kernel.invokeFunction('convertToInteractive',\n",
              "                                                    [key], {});\n",
              "        if (!dataTable) return;\n",
              "\n",
              "        const docLinkHtml = 'Like what you see? Visit the ' +\n",
              "          '<a target=\"_blank\" href=https://colab.research.google.com/notebooks/data_table.ipynb>data table notebook</a>'\n",
              "          + ' to learn more about interactive tables.';\n",
              "        element.innerHTML = '';\n",
              "        dataTable['output_type'] = 'display_data';\n",
              "        await google.colab.output.renderOutput(dataTable, element);\n",
              "        const docLink = document.createElement('div');\n",
              "        docLink.innerHTML = docLinkHtml;\n",
              "        element.appendChild(docLink);\n",
              "      }\n",
              "    </script>\n",
              "  </div>\n",
              "\n",
              "\n",
              "    <div id=\"df-7d8b585e-0f5e-45d9-bad7-603e823a97c8\">\n",
              "      <button class=\"colab-df-quickchart\" onclick=\"quickchart('df-7d8b585e-0f5e-45d9-bad7-603e823a97c8')\"\n",
              "                title=\"Suggest charts\"\n",
              "                style=\"display:none;\">\n",
              "\n",
              "<svg xmlns=\"http://www.w3.org/2000/svg\" height=\"24px\"viewBox=\"0 0 24 24\"\n",
              "     width=\"24px\">\n",
              "    <g>\n",
              "        <path d=\"M19 3H5c-1.1 0-2 .9-2 2v14c0 1.1.9 2 2 2h14c1.1 0 2-.9 2-2V5c0-1.1-.9-2-2-2zM9 17H7v-7h2v7zm4 0h-2V7h2v10zm4 0h-2v-4h2v4z\"/>\n",
              "    </g>\n",
              "</svg>\n",
              "      </button>\n",
              "\n",
              "<style>\n",
              "  .colab-df-quickchart {\n",
              "      --bg-color: #E8F0FE;\n",
              "      --fill-color: #1967D2;\n",
              "      --hover-bg-color: #E2EBFA;\n",
              "      --hover-fill-color: #174EA6;\n",
              "      --disabled-fill-color: #AAA;\n",
              "      --disabled-bg-color: #DDD;\n",
              "  }\n",
              "\n",
              "  [theme=dark] .colab-df-quickchart {\n",
              "      --bg-color: #3B4455;\n",
              "      --fill-color: #D2E3FC;\n",
              "      --hover-bg-color: #434B5C;\n",
              "      --hover-fill-color: #FFFFFF;\n",
              "      --disabled-bg-color: #3B4455;\n",
              "      --disabled-fill-color: #666;\n",
              "  }\n",
              "\n",
              "  .colab-df-quickchart {\n",
              "    background-color: var(--bg-color);\n",
              "    border: none;\n",
              "    border-radius: 50%;\n",
              "    cursor: pointer;\n",
              "    display: none;\n",
              "    fill: var(--fill-color);\n",
              "    height: 32px;\n",
              "    padding: 0;\n",
              "    width: 32px;\n",
              "  }\n",
              "\n",
              "  .colab-df-quickchart:hover {\n",
              "    background-color: var(--hover-bg-color);\n",
              "    box-shadow: 0 1px 2px rgba(60, 64, 67, 0.3), 0 1px 3px 1px rgba(60, 64, 67, 0.15);\n",
              "    fill: var(--button-hover-fill-color);\n",
              "  }\n",
              "\n",
              "  .colab-df-quickchart-complete:disabled,\n",
              "  .colab-df-quickchart-complete:disabled:hover {\n",
              "    background-color: var(--disabled-bg-color);\n",
              "    fill: var(--disabled-fill-color);\n",
              "    box-shadow: none;\n",
              "  }\n",
              "\n",
              "  .colab-df-spinner {\n",
              "    border: 2px solid var(--fill-color);\n",
              "    border-color: transparent;\n",
              "    border-bottom-color: var(--fill-color);\n",
              "    animation:\n",
              "      spin 1s steps(1) infinite;\n",
              "  }\n",
              "\n",
              "  @keyframes spin {\n",
              "    0% {\n",
              "      border-color: transparent;\n",
              "      border-bottom-color: var(--fill-color);\n",
              "      border-left-color: var(--fill-color);\n",
              "    }\n",
              "    20% {\n",
              "      border-color: transparent;\n",
              "      border-left-color: var(--fill-color);\n",
              "      border-top-color: var(--fill-color);\n",
              "    }\n",
              "    30% {\n",
              "      border-color: transparent;\n",
              "      border-left-color: var(--fill-color);\n",
              "      border-top-color: var(--fill-color);\n",
              "      border-right-color: var(--fill-color);\n",
              "    }\n",
              "    40% {\n",
              "      border-color: transparent;\n",
              "      border-right-color: var(--fill-color);\n",
              "      border-top-color: var(--fill-color);\n",
              "    }\n",
              "    60% {\n",
              "      border-color: transparent;\n",
              "      border-right-color: var(--fill-color);\n",
              "    }\n",
              "    80% {\n",
              "      border-color: transparent;\n",
              "      border-right-color: var(--fill-color);\n",
              "      border-bottom-color: var(--fill-color);\n",
              "    }\n",
              "    90% {\n",
              "      border-color: transparent;\n",
              "      border-bottom-color: var(--fill-color);\n",
              "    }\n",
              "  }\n",
              "</style>\n",
              "\n",
              "      <script>\n",
              "        async function quickchart(key) {\n",
              "          const quickchartButtonEl =\n",
              "            document.querySelector('#' + key + ' button');\n",
              "          quickchartButtonEl.disabled = true;  // To prevent multiple clicks.\n",
              "          quickchartButtonEl.classList.add('colab-df-spinner');\n",
              "          try {\n",
              "            const charts = await google.colab.kernel.invokeFunction(\n",
              "                'suggestCharts', [key], {});\n",
              "          } catch (error) {\n",
              "            console.error('Error during call to suggestCharts:', error);\n",
              "          }\n",
              "          quickchartButtonEl.classList.remove('colab-df-spinner');\n",
              "          quickchartButtonEl.classList.add('colab-df-quickchart-complete');\n",
              "        }\n",
              "        (() => {\n",
              "          let quickchartButtonEl =\n",
              "            document.querySelector('#df-7d8b585e-0f5e-45d9-bad7-603e823a97c8 button');\n",
              "          quickchartButtonEl.style.display =\n",
              "            google.colab.kernel.accessAllowed ? 'block' : 'none';\n",
              "        })();\n",
              "      </script>\n",
              "    </div>\n",
              "\n",
              "  <div id=\"id_01b63439-1580-40ee-8cf2-a6a4ba4758a8\">\n",
              "    <style>\n",
              "      .colab-df-generate {\n",
              "        background-color: #E8F0FE;\n",
              "        border: none;\n",
              "        border-radius: 50%;\n",
              "        cursor: pointer;\n",
              "        display: none;\n",
              "        fill: #1967D2;\n",
              "        height: 32px;\n",
              "        padding: 0 0 0 0;\n",
              "        width: 32px;\n",
              "      }\n",
              "\n",
              "      .colab-df-generate:hover {\n",
              "        background-color: #E2EBFA;\n",
              "        box-shadow: 0px 1px 2px rgba(60, 64, 67, 0.3), 0px 1px 3px 1px rgba(60, 64, 67, 0.15);\n",
              "        fill: #174EA6;\n",
              "      }\n",
              "\n",
              "      [theme=dark] .colab-df-generate {\n",
              "        background-color: #3B4455;\n",
              "        fill: #D2E3FC;\n",
              "      }\n",
              "\n",
              "      [theme=dark] .colab-df-generate:hover {\n",
              "        background-color: #434B5C;\n",
              "        box-shadow: 0px 1px 3px 1px rgba(0, 0, 0, 0.15);\n",
              "        filter: drop-shadow(0px 1px 2px rgba(0, 0, 0, 0.3));\n",
              "        fill: #FFFFFF;\n",
              "      }\n",
              "    </style>\n",
              "    <button class=\"colab-df-generate\" onclick=\"generateWithVariable('tabla_cont')\"\n",
              "            title=\"Generate code using this dataframe.\"\n",
              "            style=\"display:none;\">\n",
              "\n",
              "  <svg xmlns=\"http://www.w3.org/2000/svg\" height=\"24px\"viewBox=\"0 0 24 24\"\n",
              "       width=\"24px\">\n",
              "    <path d=\"M7,19H8.4L18.45,9,17,7.55,7,17.6ZM5,21V16.75L18.45,3.32a2,2,0,0,1,2.83,0l1.4,1.43a1.91,1.91,0,0,1,.58,1.4,1.91,1.91,0,0,1-.58,1.4L9.25,21ZM18.45,9,17,7.55Zm-12,3A5.31,5.31,0,0,0,4.9,8.1,5.31,5.31,0,0,0,1,6.5,5.31,5.31,0,0,0,4.9,4.9,5.31,5.31,0,0,0,6.5,1,5.31,5.31,0,0,0,8.1,4.9,5.31,5.31,0,0,0,12,6.5,5.46,5.46,0,0,0,6.5,12Z\"/>\n",
              "  </svg>\n",
              "    </button>\n",
              "    <script>\n",
              "      (() => {\n",
              "      const buttonEl =\n",
              "        document.querySelector('#id_01b63439-1580-40ee-8cf2-a6a4ba4758a8 button.colab-df-generate');\n",
              "      buttonEl.style.display =\n",
              "        google.colab.kernel.accessAllowed ? 'block' : 'none';\n",
              "\n",
              "      buttonEl.onclick = () => {\n",
              "        google.colab.notebook.generateWithVariable('tabla_cont');\n",
              "      }\n",
              "      })();\n",
              "    </script>\n",
              "  </div>\n",
              "\n",
              "    </div>\n",
              "  </div>\n"
            ],
            "application/vnd.google.colaboratory.intrinsic+json": {
              "type": "dataframe",
              "variable_name": "tabla_cont",
              "summary": "{\n  \"name\": \"tabla_cont\",\n  \"rows\": 6,\n  \"fields\": [\n    {\n      \"column\": \"TALLA_NAC\",\n      \"properties\": {\n        \"dtype\": \"string\",\n        \"num_unique_values\": 6,\n        \"samples\": [\n          \"20-29\",\n          \"30-39\",\n          \"> 60\"\n        ],\n        \"semantic_type\": \"\",\n        \"description\": \"\"\n      }\n    },\n    {\n      \"column\": \"22-27\",\n      \"properties\": {\n        \"dtype\": \"number\",\n        \"std\": 654,\n        \"min\": 0,\n        \"max\": 1646,\n        \"num_unique_values\": 6,\n        \"samples\": [\n          251,\n          1646,\n          0\n        ],\n        \"semantic_type\": \"\",\n        \"description\": \"\"\n      }\n    },\n    {\n      \"column\": \"28-37\",\n      \"properties\": {\n        \"dtype\": \"number\",\n        \"std\": 38415,\n        \"min\": 0,\n        \"max\": 95455,\n        \"num_unique_values\": 5,\n        \"samples\": [\n          3357,\n          0,\n          95455\n        ],\n        \"semantic_type\": \"\",\n        \"description\": \"\"\n      }\n    },\n    {\n      \"column\": \"38-41\",\n      \"properties\": {\n        \"dtype\": \"number\",\n        \"std\": 100001,\n        \"min\": 0,\n        \"max\": 230919,\n        \"num_unique_values\": 5,\n        \"samples\": [\n          46,\n          19,\n          140106\n        ],\n        \"semantic_type\": \"\",\n        \"description\": \"\"\n      }\n    },\n    {\n      \"column\": \"< 22\",\n      \"properties\": {\n        \"dtype\": \"number\",\n        \"std\": 4,\n        \"min\": 0,\n        \"max\": 11,\n        \"num_unique_values\": 5,\n        \"samples\": [\n          5,\n          2,\n          0\n        ],\n        \"semantic_type\": \"\",\n        \"description\": \"\"\n      }\n    },\n    {\n      \"column\": \"> 42\",\n      \"properties\": {\n        \"dtype\": \"number\",\n        \"std\": 145,\n        \"min\": 0,\n        \"max\": 360,\n        \"num_unique_values\": 4,\n        \"samples\": [\n          116,\n          1,\n          0\n        ],\n        \"semantic_type\": \"\",\n        \"description\": \"\"\n      }\n    },\n    {\n      \"column\": \"IGNORADO\",\n      \"properties\": {\n        \"dtype\": \"number\",\n        \"std\": 203,\n        \"min\": 0,\n        \"max\": 478,\n        \"num_unique_values\": 5,\n        \"samples\": [\n          17,\n          0,\n          478\n        ],\n        \"semantic_type\": \"\",\n        \"description\": \"\"\n      }\n    }\n  ]\n}"
            }
          },
          "metadata": {},
          "execution_count": 20
        }
      ]
    },
    {
      "cell_type": "code",
      "source": [
        "sns.set(style=\"whitegrid\")\n",
        "plt.figure(figsize=(7,6))\n",
        "heatmap = sns.heatmap(tabla_cont,annot=True, fmt=\"d\", cmap=\"YlGnBu\", cbar=True)\n",
        "plt.show()"
      ],
      "metadata": {
        "colab": {
          "base_uri": "https://localhost:8080/",
          "height": 550
        },
        "id": "Vu9lA-sYokEH",
        "outputId": "dd2b1209-e6d0-479f-8788-217a265b037b"
      },
      "execution_count": null,
      "outputs": [
        {
          "output_type": "display_data",
          "data": {
            "text/plain": [
              "<Figure size 700x600 with 2 Axes>"
            ],
            "image/png": "[encoded data removed]"
          },
          "metadata": {}
        }
      ]
    },
    {
      "cell_type": "code",
      "source": [
        "res = stats.chi2_contingency(tabla_cont)\n",
        "chi, valor_p, _,_ = res\n",
        "print(f\"El valor de la estadística Chi cuadrado es {chi} y el valor p es {valor_p}\")"
      ],
      "metadata": {
        "id": "-smxJ-w3qmXS",
        "colab": {
          "base_uri": "https://localhost:8080/"
        },
        "outputId": "a1dc5f30-9f50-449a-e9b0-5df149253724"
      },
      "execution_count": null,
      "outputs": [
        {
          "output_type": "stream",
          "name": "stdout",
          "text": [
            "El valor de la estadística Chi cuadrado es 283302.7467337464 y el valor p es 0.0\n"
          ]
        }
      ]
    },
    {
      "cell_type": "markdown",
      "source": [
        "Como el valor p es < 0.05, entonces se rechaza la hipotesis nula, es decir, con una confianza del 95% no se rechaza que las variables talla de gestación y talla de nacimiento estén asociadas.  "
      ],
      "metadata": {
        "id": "vCQnT2mXUm5Y"
      }
    },
    {
      "cell_type": "code",
      "source": [
        "coeficiente_contingencia = math.sqrt(chi/(chi + len(df1.T_GES)))\n",
        "coeficiente_phi = math.sqrt(chi/len(df1.T_GES))\n",
        "coeficiente_v_cramer = math.sqrt(chi/(len(df1.T_GES)*min(4-1, 2-1)))\n",
        "print(f\"Los coeficientes de contingencia, Phi y V de Cramer están respectivamente dados por {coeficiente_contingencia}, {coeficiente_phi} y {coeficiente_v_cramer}\")\n"
      ],
      "metadata": {
        "colab": {
          "base_uri": "https://localhost:8080/"
        },
        "id": "6RcLkfndoyce",
        "outputId": "38f54c0a-b091-4225-d67d-051798acb512"
      },
      "execution_count": null,
      "outputs": [
        {
          "output_type": "stream",
          "name": "stdout",
          "text": [
            "Los coeficientes de contingencia, Phi y V de Cramer están respectivamente dados por 0.5980358668183134, 0.7461743542999918 y 0.7461743542999918\n"
          ]
        }
      ]
    },
    {
      "cell_type": "code",
      "source": [
        "coeficiente_contingencia = math.sqrt(chi/(chi + len(df1.TALLA_NAC)))\n",
        "coeficiente_phi = math.sqrt(chi/len(df1.TALLA_NAC))\n",
        "coeficiente_v_cramer = math.sqrt(chi/(len(df1.TALLA_NAC)*min(4-1, 2-1)))\n",
        "print(f\"Los coeficientes de contingencia, Phi y V de Cramer están respectivamente dados por {coeficiente_contingencia}, {coeficiente_phi} y {coeficiente_v_cramer}\")\n"
      ],
      "metadata": {
        "colab": {
          "base_uri": "https://localhost:8080/"
        },
        "id": "LPCbYT8Gou2s",
        "outputId": "cc2daa15-079e-4fd3-f27d-8d887e806c32"
      },
      "execution_count": null,
      "outputs": [
        {
          "output_type": "stream",
          "name": "stdout",
          "text": [
            "Los coeficientes de contingencia, Phi y V de Cramer están respectivamente dados por 0.5980358668183134, 0.7461743542999918 y 0.7461743542999918\n"
          ]
        }
      ]
    },
    {
      "cell_type": "markdown",
      "source": [
        "En conclusión, al analizar la relación entre las variables TALLA_NAC (talla al nacer) y T_GES (tiempo de gestación), se obtuvieron los siguientes coeficientes:\n",
        "\n",
        "El coeficiente de contingencia es 0.598, lo cual indica que sí existe una asociación significativa entre ambas variables, aunque no perfecta.\n",
        "\n",
        "El coeficiente Phi, con valor 0.746, sugiere una asociación fuerte. Phi es especialmente útil cuando se comparan tablas 2×2, pero aquí aún proporciona una buena aproximación de fuerza relacional.\n",
        "\n",
        "El coeficiente V de Cramer, también igual a 0.746, confirma una fuerte asociación, adecuada para tablas mayores a 2×2 y más robusta que Phi en estos casos.\n",
        "\n",
        "Además, como el valor p de la prueba Chi-cuadrado fue 0.0 < 0.05, se rechaza la hipótesis nula, lo cual significa que existe una relación estadísticamente significativa entre la talla al nacer y el tiempo de gestación.\n",
        "\n",
        "Por tanto, se concluye que las variables TALLA_NAC y T_GES están asociadas de manera fuerte, y una variable puede dar información útil sobre la otra.\n"
      ],
      "metadata": {
        "id": "lOuad81fpkhF"
      }
    },
    {
      "cell_type": "markdown",
      "source": [
        "---\n",
        "\n",
        "## $\\text{4. Conclusiones}$\n",
        "En primer lugar, el análisis de la variable TALLA_NAC evidenció que más del 98% de los recién nacidos presentan una talla entre 40 y 59 cm, lo cual coincide con los rangos esperados según estándares neonatales y refleja un patrón de crecimiento fetal saludable en la mayoría de los casos. En segundo lugar, al observar la variable T_GES, se encontró que cerca del 73% de los nacimientos se producen entre las 38 y 41 semanas de gestación, lo que indica un predominio de partos a término. Sin embargo, se identificó que aproximadamente el 26% corresponde a nacimientos prematuros (entre 28 y 37 semanas), lo cual constituye un dato importante para el diseño de estrategias de prevención y atención médica especializada.\n",
        "\n",
        "Adicionalmente, la aplicación de la prueba Chi-cuadrado permitió establecer una asociación estadísticamente significativa entre las variables talla al nacer y tiempo de gestación (valor p < 0.05), lo cual se refuerza con los coeficientes de contingencia (0.598), Phi y V de Cramer (0.746), que indican una relación fuerte entre ambas variables. En consecuencia, se concluye que el tiempo de gestación influye directamente en la talla del recién nacido, y que ambas variables son interdependientes dentro del contexto del desarrollo fetal. Por tanto, estos hallazgos subrayan la importancia de una vigilancia prenatal continua y eficiente, orientada a reducir los partos prematuros y garantizar condiciones óptimas para el nacimiento.\n",
        "\n",
        "---\n"
      ],
      "metadata": {
        "id": "5__rHOfe4bi2"
      }
    },
    {
      "cell_type": "markdown",
      "source": [
        "## $\\text{5. Referencias bibliográficas}$"
      ],
      "metadata": {
        "id": "i2glkhhqqgYJ"
      }
    },
    {
      "cell_type": "markdown",
      "source": [
        "* Departamento Administrativo Nacional de Estadística (DANE). (2023). Nacimientos - Año 2023. Recuperado de https://microdatos.dane.gov.co/index.php/catalog/843/data-dictionary\n",
        "* Departamento Administrativo Nacional de Estadística (DANE). (2023). Diccionario de variables de nacimientos 2023. Disponible en el mismo catálogo del enlace anterior.\n",
        "\n",
        "- Organización Panamericana de la Salud (OPS). (2020). Estadísticas vitales: principios y recomendaciones. Organización Mundial de la Salud.\n",
        "\n",
        "- Montgomery, D. C., & Runger, G. C. (2014). Estadística aplicada y probabilidad para ingenieros (5.ª ed.). Wiley.\n",
        "- Ministerio de Salud y Protección Social.(2024). Documento de orientación para la gestión territorial de las Estadísticas Vitales."
      ],
      "metadata": {
        "id": "RzxVv2ygqqSF"
      }
    }
  ]
}